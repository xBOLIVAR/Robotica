{
  "nbformat": 4,
  "nbformat_minor": 0,
  "metadata": {
    "colab": {
      "provenance": []
    },
    "kernelspec": {
      "name": "python3",
      "display_name": "Python 3"
    },
    "language_info": {
      "name": "python"
    }
  },
  "cells": [
    {
      "cell_type": "code",
      "source": [
        "import numpy as np"
      ],
      "metadata": {
        "id": "Dlazh8EQP-Cw"
      },
      "execution_count": null,
      "outputs": []
    },
    {
      "cell_type": "code",
      "execution_count": null,
      "metadata": {
        "colab": {
          "base_uri": "https://localhost:8080/"
        },
        "id": "HwmwU4eIPhH6",
        "outputId": "ac2f02fd-7e70-481a-a3c0-4e6502d28365"
      },
      "outputs": [
        {
          "output_type": "stream",
          "name": "stdout",
          "text": [
            "Ingrese las coordenadas x=2\n",
            "Ingrese las coordenadas y=3\n",
            "Ingrese las coordenadas z=5\n",
            "Las coordenadas cilíndricas son [r,thetadeg,z]\n",
            "[3.605551275463989, 56.309932474020215, 5.0]\n",
            "Las coordenadas esféricas son [r1,thetadeg,phideg]\n",
            "[6.164414002968976, 56.309932474020215, 35.795759914707084]\n"
          ]
        }
      ],
      "source": [
        "x=float(input('Ingrese las coordenadas x='))\n",
        "y=float(input('Ingrese las coordenadas y='))\n",
        "z=float(input('Ingrese las coordenadas z='))\n",
        "\n",
        "#Coordenadas cilíndricas\n",
        "\n",
        "r=np.sqrt((x**2)+(y**2))\n",
        "theta=np.arctan(y/x)\n",
        "thetadeg=np.rad2deg(theta)\n",
        "\n",
        "print('Las coordenadas cilíndricas son [r,thetadeg,z]')\n",
        "print([r,thetadeg,z])\n",
        "\n",
        "\n",
        "\n",
        "#Coordenadas esféricas\n",
        "r1=np.sqrt((x**2)+(y**2)+(z**2))\n",
        "phi=np.arccos(z/r1)\n",
        "phideg=np.rad2deg(phi)\n",
        "\n",
        "print('Las coordenadas esféricas son [r1,thetadeg,phideg]')\n",
        "print([r1,thetadeg,phideg])\n",
        "\n",
        "\n"
      ]
    },
    {
      "cell_type": "code",
      "source": [
        "Puv=[[1],[2]];\n",
        "theta=np.pi/2;\n",
        "R=[[np.cos(theta), -np.sin(theta)],[np.sin(theta), np.cos(theta)]];\n",
        "pxy=np.dot(R,Puv);\n",
        "print('pxy=');\n",
        "print(pxy)\n",
        "\n",
        "\n",
        "\n",
        "theta2=np.pi/4;\n",
        "R2=[[np.cos(theta2), -np.sin(theta2)], [np.sin(theta2), np.cos(theta2)]];\n",
        "pxy2=np.dot(R2,Puv);\n",
        "print('pxy2=');\n",
        "print(pxy2);"
      ],
      "metadata": {
        "colab": {
          "base_uri": "https://localhost:8080/"
        },
        "id": "z_3iGDN7Y-q4",
        "outputId": "46a397a9-ad7e-40e9-a603-026e63672dca"
      },
      "execution_count": null,
      "outputs": [
        {
          "output_type": "stream",
          "name": "stdout",
          "text": [
            "pxy=\n",
            "[[-2.]\n",
            " [ 1.]]\n",
            "pxy2=\n",
            "[[-0.70710678]\n",
            " [ 2.12132034]]\n"
          ]
        }
      ]
    },
    {
      "cell_type": "markdown",
      "source": [],
      "metadata": {
        "id": "6QBQXGl_ZB45"
      }
    },
    {
      "cell_type": "code",
      "source": [
        "Puv=[[1],[1],[2]];\n",
        "theta=np.pi/2;\n",
        "R=[[np.cos(theta), 0, np.sin(theta)], [0, 1, 0], [-np.sin(theta), 0,np.cos(theta)]]\n",
        "pxy=np.dot(R,Puv);\n",
        "print('pxy=');\n",
        "print(pxy)\n",
        "\n",
        "\n",
        "\n",
        "theta2=np.pi/4;\n",
        "R2=[[np.cos(theta2), 0, np.sin(theta2)], [0, 1, 0], [-np.sin(theta2), 0,np.cos(theta2)]];\n",
        "pxy2=np.dot(R2,Puv);\n",
        "print('pxy2=');\n",
        "print(pxy2);"
      ],
      "metadata": {
        "colab": {
          "base_uri": "https://localhost:8080/"
        },
        "id": "SQj1NETIkFfV",
        "outputId": "fd988c0e-a68b-40b5-9217-c7ee0426476b"
      },
      "execution_count": null,
      "outputs": [
        {
          "output_type": "stream",
          "name": "stdout",
          "text": [
            "pxy=\n",
            "[[ 2.]\n",
            " [ 1.]\n",
            " [-1.]]\n",
            "pxy2=\n",
            "[[2.12132034]\n",
            " [1.        ]\n",
            " [0.70710678]]\n"
          ]
        }
      ]
    }
  ]
}