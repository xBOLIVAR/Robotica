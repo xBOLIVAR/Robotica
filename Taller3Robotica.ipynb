{
  "cells": [
    {
      "cell_type": "code",
      "execution_count": 1,
      "metadata": {
        "colab": {
          "base_uri": "https://localhost:8080/"
        },
        "id": "Gs6AQOXmmom_",
        "outputId": "c86f39c6-3d40-4159-821c-e67ca4acd0e6"
      },
      "outputs": [
        {
          "ename": "ModuleNotFoundError",
          "evalue": "No module named 'numpy'",
          "output_type": "error",
          "traceback": [
            "\u001b[1;31m---------------------------------------------------------------------------\u001b[0m",
            "\u001b[1;31mModuleNotFoundError\u001b[0m                       Traceback (most recent call last)",
            "Cell \u001b[1;32mIn[1], line 1\u001b[0m\n\u001b[1;32m----> 1\u001b[0m \u001b[38;5;28;01mimport\u001b[39;00m \u001b[38;5;21;01mnumpy\u001b[39;00m \u001b[38;5;28;01mas\u001b[39;00m \u001b[38;5;21;01mnp\u001b[39;00m\n\u001b[0;32m      3\u001b[0m \u001b[38;5;66;03m# Solicitar al usuario las coordenadas iniciales (3D)\u001b[39;00m\n\u001b[0;32m      4\u001b[0m Puvw \u001b[38;5;241m=\u001b[39m np\u001b[38;5;241m.\u001b[39marray(\u001b[38;5;28minput\u001b[39m(\u001b[38;5;124m'\u001b[39m\u001b[38;5;124mIngrese las coordenadas iniciales (3D) separadas por coma: \u001b[39m\u001b[38;5;124m'\u001b[39m)\u001b[38;5;241m.\u001b[39msplit(\u001b[38;5;124m'\u001b[39m\u001b[38;5;124m,\u001b[39m\u001b[38;5;124m'\u001b[39m), dtype\u001b[38;5;241m=\u001b[39m\u001b[38;5;28mfloat\u001b[39m)\n",
            "\u001b[1;31mModuleNotFoundError\u001b[0m: No module named 'numpy'"
          ]
        }
      ],
      "source": [
        "import numpy as np\n",
        "\n",
        "# Solicitar al usuario las coordenadas iniciales (3D)\n",
        "Puvw = np.array(input('Ingrese las coordenadas iniciales (3D) separadas por coma: ').split(','), dtype=float)\n",
        "\n",
        "# Solicitar al usuario los ángulos de rotación\n",
        "theta = float(input('Ingrese el valor del ángulo theta: '))  # Ángulo de rotación respecto a Z en grados\n",
        "phi = float(input('Ingrese el valor del ángulo phi: '))      # Ángulo de rotación respecto a Y en grados\n",
        "alpha = float(input('Ingrese el valor del ángulo alpha: '))  # Ángulo de rotación respecto a X en grados\n",
        "\n",
        "# Convertir ángulos de grados a radianes\n",
        "theta = np.radians(theta)\n",
        "phi = np.radians(phi)\n",
        "alpha = np.radians(alpha)\n",
        "\n",
        "# Matrices de rotación en 3D\n",
        "Rx = np.array([[1, 0, 0],\n",
        "               [0, np.cos(alpha), -np.sin(alpha)],\n",
        "               [0, np.sin(alpha), np.cos(alpha)]])\n",
        "\n",
        "Ry = np.array([[np.cos(phi), 0, np.sin(phi)],\n",
        "               [0, 1, 0],\n",
        "               [-np.sin(phi), 0, np.cos(phi)]])\n",
        "\n",
        "Rz = np.array([[np.cos(theta), -np.sin(theta), 0],\n",
        "               [np.sin(theta), np.cos(theta), 0],\n",
        "               [0, 0, 1]])\n",
        "\n",
        "# Aplicar las rotaciones\n",
        "p1xyz = Rx.dot(Puvw)\n",
        "p2xyz = Ry.dot(p1xyz)\n",
        "p3xyz = Rz.dot(p2xyz)\n",
        "\n",
        "# Matriz de transformación rotacional final\n",
        "TR = p3xyz\n",
        "\n",
        "print('Matriz de transformación rotacional final para 3 coordenadas:')\n",
        "print(TR)\n"
      ]
    }
  ],
  "metadata": {
    "colab": {
      "provenance": []
    },
    "kernelspec": {
      "display_name": "Python 3",
      "name": "python3"
    },
    "language_info": {
      "codemirror_mode": {
        "name": "ipython",
        "version": 3
      },
      "file_extension": ".py",
      "mimetype": "text/x-python",
      "name": "python",
      "nbconvert_exporter": "python",
      "pygments_lexer": "ipython3",
      "version": "3.12.5"
    }
  },
  "nbformat": 4,
  "nbformat_minor": 0
}
