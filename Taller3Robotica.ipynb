{
  "nbformat": 4,
  "nbformat_minor": 0,
  "metadata": {
    "colab": {
      "provenance": []
    },
    "kernelspec": {
      "name": "python3",
      "display_name": "Python 3"
    },
    "language_info": {
      "name": "python"
    }
  },
  "cells": [
    {
      "cell_type": "code",
      "execution_count": null,
      "metadata": {
        "colab": {
          "base_uri": "https://localhost:8080/"
        },
        "id": "Gs6AQOXmmom_",
        "outputId": "c86f39c6-3d40-4159-821c-e67ca4acd0e6"
      },
      "outputs": [
        {
          "output_type": "stream",
          "name": "stdout",
          "text": [
            "Ingrese las coordenadas iniciales (3D) separadas por coma []: 1,2,3\n",
            "Ingrese el valor del ángulo theta: 45\n",
            "Ingrese el valor del ángulo phi: 45\n",
            "Ingrese el valor del ángulo alpha: 45\n",
            "Matriz de transformación rotacional final para 3 coordenadas:\n",
            "[2.76776695 1.76776695 1.79289322]\n"
          ]
        }
      ],
      "source": [
        "import numpy as np\n",
        "\n",
        "# Solicitar al usuario las coordenadas iniciales (3D)\n",
        "Puvw = np.array(input('Ingrese las coordenadas iniciales (3D) separadas por coma: ').split(','), dtype=float)\n",
        "\n",
        "# Solicitar al usuario los ángulos de rotación\n",
        "theta = float(input('Ingrese el valor del ángulo theta: '))  # Ángulo de rotación respecto a Z en grados\n",
        "phi = float(input('Ingrese el valor del ángulo phi: '))      # Ángulo de rotación respecto a Y en grados\n",
        "alpha = float(input('Ingrese el valor del ángulo alpha: '))  # Ángulo de rotación respecto a X en grados\n",
        "\n",
        "# Convertir ángulos de grados a radianes\n",
        "theta = np.radians(theta)\n",
        "phi = np.radians(phi)\n",
        "alpha = np.radians(alpha)\n",
        "\n",
        "# Matrices de rotación en 3D\n",
        "Rx = np.array([[1, 0, 0],\n",
        "               [0, np.cos(alpha), -np.sin(alpha)],\n",
        "               [0, np.sin(alpha), np.cos(alpha)]])\n",
        "\n",
        "Ry = np.array([[np.cos(phi), 0, np.sin(phi)],\n",
        "               [0, 1, 0],\n",
        "               [-np.sin(phi), 0, np.cos(phi)]])\n",
        "\n",
        "Rz = np.array([[np.cos(theta), -np.sin(theta), 0],\n",
        "               [np.sin(theta), np.cos(theta), 0],\n",
        "               [0, 0, 1]])\n",
        "\n",
        "# Aplicar las rotaciones\n",
        "p1xyz = Rx.dot(Puvw)\n",
        "p2xyz = Ry.dot(p1xyz)\n",
        "p3xyz = Rz.dot(p2xyz)\n",
        "\n",
        "# Matriz de transformación rotacional final\n",
        "TR = p3xyz\n",
        "\n",
        "print('Matriz de transformación rotacional final para 3 coordenadas:')\n",
        "print(TR)\n"
      ]
    }
  ]
}